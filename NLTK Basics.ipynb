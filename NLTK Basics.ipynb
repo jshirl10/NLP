{
 "cells": [
  {
   "cell_type": "markdown",
   "id": "385d71c9-3b58-4f2c-b816-47a7d49cbd52",
   "metadata": {},
   "source": [
    "# NLTK Basics"
   ]
  },
  {
   "cell_type": "markdown",
   "id": "e133a730-c02e-4d58-b935-c38bdd418545",
   "metadata": {},
   "source": [
    "*** Work to still do on this as of 5/17/2022: ****\n",
    "- Do you always want to lowercase all words?\n",
    "- Removing punctuation\n",
    "- Improving efficiency of combining pandas Series of reviews into 1 array\n",
    "- Sentiment analysis"
   ]
  },
  {
   "cell_type": "markdown",
   "id": "69303ba8-9099-4ea4-a3bc-45477b1992ea",
   "metadata": {},
   "source": [
    "### Loading in the Data"
   ]
  },
  {
   "cell_type": "code",
   "execution_count": 23,
   "id": "c27f31e1-3bab-4e96-a5ae-2307ec69727e",
   "metadata": {},
   "outputs": [
    {
     "name": "stderr",
     "output_type": "stream",
     "text": [
      "[nltk_data] Downloading package punkt to\n",
      "[nltk_data]     C:\\Users\\joshs\\AppData\\Roaming\\nltk_data...\n",
      "[nltk_data]   Unzipping tokenizers\\punkt.zip.\n"
     ]
    },
    {
     "data": {
      "text/plain": [
       "True"
      ]
     },
     "execution_count": 23,
     "metadata": {},
     "output_type": "execute_result"
    }
   ],
   "source": [
    "import pandas as pd\n",
    "import nltk\n",
    "nltk.download('punkt')"
   ]
  },
  {
   "cell_type": "code",
   "execution_count": 70,
   "id": "70b9f232-edd8-47f5-a854-e2de6a93028f",
   "metadata": {},
   "outputs": [],
   "source": [
    "text = pd.read_csv('../../hotel-reviews.csv')"
   ]
  },
  {
   "cell_type": "code",
   "execution_count": 71,
   "id": "4dfbe41b-318b-4569-991b-1f370e716d81",
   "metadata": {},
   "outputs": [
    {
     "data": {
      "text/html": [
       "<div>\n",
       "<style scoped>\n",
       "    .dataframe tbody tr th:only-of-type {\n",
       "        vertical-align: middle;\n",
       "    }\n",
       "\n",
       "    .dataframe tbody tr th {\n",
       "        vertical-align: top;\n",
       "    }\n",
       "\n",
       "    .dataframe thead th {\n",
       "        text-align: right;\n",
       "    }\n",
       "</style>\n",
       "<table border=\"1\" class=\"dataframe\">\n",
       "  <thead>\n",
       "    <tr style=\"text-align: right;\">\n",
       "      <th></th>\n",
       "      <th>User_ID</th>\n",
       "      <th>Description</th>\n",
       "      <th>Browser_Used</th>\n",
       "      <th>Device_Used</th>\n",
       "      <th>Is_Response</th>\n",
       "    </tr>\n",
       "  </thead>\n",
       "  <tbody>\n",
       "    <tr>\n",
       "      <th>0</th>\n",
       "      <td>id10326</td>\n",
       "      <td>The room was kind of clean but had a VERY stro...</td>\n",
       "      <td>Edge</td>\n",
       "      <td>Mobile</td>\n",
       "      <td>not happy</td>\n",
       "    </tr>\n",
       "    <tr>\n",
       "      <th>1</th>\n",
       "      <td>id10327</td>\n",
       "      <td>I stayed at the Crown Plaza April -- - April -...</td>\n",
       "      <td>Internet Explorer</td>\n",
       "      <td>Mobile</td>\n",
       "      <td>not happy</td>\n",
       "    </tr>\n",
       "    <tr>\n",
       "      <th>2</th>\n",
       "      <td>id10328</td>\n",
       "      <td>I booked this hotel through Hotwire at the low...</td>\n",
       "      <td>Mozilla</td>\n",
       "      <td>Tablet</td>\n",
       "      <td>not happy</td>\n",
       "    </tr>\n",
       "    <tr>\n",
       "      <th>3</th>\n",
       "      <td>id10329</td>\n",
       "      <td>Stayed here with husband and sons on the way t...</td>\n",
       "      <td>InternetExplorer</td>\n",
       "      <td>Desktop</td>\n",
       "      <td>happy</td>\n",
       "    </tr>\n",
       "    <tr>\n",
       "      <th>4</th>\n",
       "      <td>id10330</td>\n",
       "      <td>My girlfriends and I stayed here to celebrate ...</td>\n",
       "      <td>Edge</td>\n",
       "      <td>Tablet</td>\n",
       "      <td>not happy</td>\n",
       "    </tr>\n",
       "  </tbody>\n",
       "</table>\n",
       "</div>"
      ],
      "text/plain": [
       "   User_ID                                        Description  \\\n",
       "0  id10326  The room was kind of clean but had a VERY stro...   \n",
       "1  id10327  I stayed at the Crown Plaza April -- - April -...   \n",
       "2  id10328  I booked this hotel through Hotwire at the low...   \n",
       "3  id10329  Stayed here with husband and sons on the way t...   \n",
       "4  id10330  My girlfriends and I stayed here to celebrate ...   \n",
       "\n",
       "        Browser_Used Device_Used Is_Response  \n",
       "0               Edge      Mobile   not happy  \n",
       "1  Internet Explorer      Mobile   not happy  \n",
       "2            Mozilla      Tablet   not happy  \n",
       "3   InternetExplorer     Desktop       happy  \n",
       "4               Edge      Tablet   not happy  "
      ]
     },
     "execution_count": 71,
     "metadata": {},
     "output_type": "execute_result"
    }
   ],
   "source": [
    "text.head()"
   ]
  },
  {
   "cell_type": "code",
   "execution_count": 72,
   "id": "bcc90323-ed99-490e-bdf3-73806a1be268",
   "metadata": {},
   "outputs": [],
   "source": [
    "descriptions = text.loc[:,'Description']"
   ]
  },
  {
   "cell_type": "markdown",
   "id": "46df2845-e611-4b2c-952d-a3101a9ab9f1",
   "metadata": {},
   "source": [
    "## Practice using only 1 review"
   ]
  },
  {
   "cell_type": "markdown",
   "id": "221a3398-b2e0-4d50-880c-d897d888f0c1",
   "metadata": {},
   "source": [
    "### Sentence Tokenization"
   ]
  },
  {
   "cell_type": "code",
   "execution_count": 73,
   "id": "29de2983-642d-4704-bb70-e4e345e41ced",
   "metadata": {},
   "outputs": [],
   "source": [
    "from nltk.tokenize import sent_tokenize"
   ]
  },
  {
   "cell_type": "code",
   "execution_count": 74,
   "id": "d5749f9b-400a-4b12-b8e1-2b9b69061ce2",
   "metadata": {},
   "outputs": [
    {
     "name": "stdout",
     "output_type": "stream",
     "text": [
      "The room was kind of clean but had a VERY strong smell of dogs. Generally below average but ok for a overnight stay if you're not too fussy. Would consider staying again if the price was right. Breakfast was free and just about better than nothing.\n"
     ]
    }
   ],
   "source": [
    "print(descriptions[0])"
   ]
  },
  {
   "cell_type": "code",
   "execution_count": 86,
   "id": "2eff25da-82e9-4795-bd78-08a0b0dc40c2",
   "metadata": {},
   "outputs": [
    {
     "name": "stdout",
     "output_type": "stream",
     "text": [
      "the room was kind of clean but had a very strong smell of dogs. generally below average but ok for a overnight stay if you're not too fussy. would consider staying again if the price was right. breakfast was free and just about better than nothing.\n"
     ]
    }
   ],
   "source": [
    "lowercase = descriptions[0].lower()\n",
    "print(lowercase)"
   ]
  },
  {
   "cell_type": "code",
   "execution_count": 84,
   "id": "f60569ab-3b68-477d-9807-37c7691053f8",
   "metadata": {},
   "outputs": [
    {
     "name": "stdout",
     "output_type": "stream",
     "text": [
      "['the room was kind of clean but had a very strong smell of dogs.', \"generally below average but ok for a overnight stay if you're not too fussy.\", 'would consider staying again if the price was right.', 'breakfast was free and just about better than nothing.']\n"
     ]
    }
   ],
   "source": [
    "tokenized_text=sent_tokenize(lowercase)\n",
    "print(tokenized_text)"
   ]
  },
  {
   "cell_type": "markdown",
   "id": "ab42c093-ffde-4bef-b15e-3a29c8c713a8",
   "metadata": {},
   "source": [
    "### Word Tokenization"
   ]
  },
  {
   "cell_type": "code",
   "execution_count": 85,
   "id": "8e2c1a1f-4f92-4b3e-bfc3-49dd23225155",
   "metadata": {},
   "outputs": [
    {
     "name": "stdout",
     "output_type": "stream",
     "text": [
      "['the', 'room', 'was', 'kind', 'of', 'clean', 'but', 'had', 'a', 'very', 'strong', 'smell', 'of', 'dogs', '.', 'generally', 'below', 'average', 'but', 'ok', 'for', 'a', 'overnight', 'stay', 'if', 'you', \"'re\", 'not', 'too', 'fussy', '.', 'would', 'consider', 'staying', 'again', 'if', 'the', 'price', 'was', 'right', '.', 'breakfast', 'was', 'free', 'and', 'just', 'about', 'better', 'than', 'nothing', '.']\n"
     ]
    }
   ],
   "source": [
    "from nltk.tokenize import word_tokenize\n",
    "tokenized_word=word_tokenize(lowercase)\n",
    "print(tokenized_word)"
   ]
  },
  {
   "cell_type": "markdown",
   "id": "f031020e-9dfc-4bf3-aac3-04912a3426d8",
   "metadata": {},
   "source": [
    "### Frequency Distribution"
   ]
  },
  {
   "cell_type": "code",
   "execution_count": 77,
   "id": "1e66ecc1-d0bf-4729-9036-c5b6b9441046",
   "metadata": {},
   "outputs": [
    {
     "name": "stdout",
     "output_type": "stream",
     "text": [
      "<FreqDist with 42 samples and 51 outcomes>\n"
     ]
    }
   ],
   "source": [
    "from nltk.probability import FreqDist\n",
    "fdist = FreqDist(tokenized_word)\n",
    "print(fdist)"
   ]
  },
  {
   "cell_type": "code",
   "execution_count": 78,
   "id": "7103d4b3-257d-4a87-a6c1-6e408c9846d5",
   "metadata": {},
   "outputs": [
    {
     "data": {
      "text/plain": [
       "[('.', 4), ('was', 3)]"
      ]
     },
     "execution_count": 78,
     "metadata": {},
     "output_type": "execute_result"
    }
   ],
   "source": [
    "fdist.most_common(2)"
   ]
  },
  {
   "cell_type": "code",
   "execution_count": 79,
   "id": "b271963e-d017-4e78-b398-e0afe950ba2b",
   "metadata": {},
   "outputs": [
    {
     "data": {
      "image/png": "[encoded data removed]",
      "text/plain": [
       "<Figure size 432x288 with 1 Axes>"
      ]
     },
     "metadata": {
      "needs_background": "light"
     },
     "output_type": "display_data"
    }
   ],
   "source": [
    "import matplotlib.pyplot as plt\n",
    "fdist.plot(30,cumulative=False)\n",
    "plt.show()"
   ]
  },
  {
   "cell_type": "markdown",
   "id": "294f3497-cd22-41fb-bcf1-f1a848b37918",
   "metadata": {},
   "source": [
    "### Stopwords"
   ]
  },
  {
   "cell_type": "code",
   "execution_count": 80,
   "id": "8a5164d7-fcf7-4e7f-a1fd-b411a716c560",
   "metadata": {},
   "outputs": [
    {
     "name": "stderr",
     "output_type": "stream",
     "text": [
      "[nltk_data] Downloading package stopwords to\n",
      "[nltk_data]     C:\\Users\\joshs\\AppData\\Roaming\\nltk_data...\n",
      "[nltk_data]   Package stopwords is already up-to-date!\n"
     ]
    },
    {
     "data": {
      "text/plain": [
       "True"
      ]
     },
     "execution_count": 80,
     "metadata": {},
     "output_type": "execute_result"
    }
   ],
   "source": [
    "nltk.download('stopwords')"
   ]
  },
  {
   "cell_type": "code",
   "execution_count": 81,
   "id": "84f768d1-b16b-44d3-975f-8987ff01f2fb",
   "metadata": {},
   "outputs": [
    {
     "name": "stdout",
     "output_type": "stream",
     "text": [
      "{'you', 'any', \"hasn't\", \"haven't\", 'our', 'ourselves', 'which', 'above', 'these', 'y', 'other', 'hasn', 'while', 'couldn', 'himself', 'them', 'few', 'herself', 'itself', 'or', 'is', \"mustn't\", 'its', 'own', \"wouldn't\", 'to', 'they', 'under', 'most', 'if', 'by', 'with', 'just', 'until', 'more', 'an', 'hadn', 'a', 'should', 't', \"mightn't\", 'so', 'very', 'than', 'had', 'too', 'such', \"couldn't\", 'from', \"should've\", 'mustn', 'being', \"wasn't\", \"shan't\", 'how', 'did', 'who', 'into', 'all', 'i', 'whom', \"shouldn't\", 'nor', 'where', 'again', 'his', 'then', \"won't\", 'over', 'weren', 'shan', 'at', 'yourselves', 'down', 'this', 'ain', 'him', 'd', 'ours', \"don't\", 'not', 'haven', 'further', 'my', \"hadn't\", 'in', 'will', 'up', 'that', 'ma', 'it', 'didn', 'after', 'yours', \"that'll\", 'no', \"doesn't\", 'yourself', 'doesn', 'the', 'll', 'needn', \"it's\", \"needn't\", 'there', \"she's\", 'each', 'same', 'those', 's', 'out', 'don', 'here', 'do', 'isn', 'once', \"weren't\", 'through', 'can', \"didn't\", 'doing', 'when', 'her', 'themselves', 've', 'for', 'why', 'm', 'has', 'off', 'only', 'wouldn', 'shouldn', 're', 'been', \"you're\", 'now', 'and', 'was', 'having', 'myself', 'she', \"isn't\", \"you'll\", 'we', 'of', 'below', 'both', 'he', \"aren't\", 'does', 'some', 'before', 'be', \"you've\", 'are', 'mightn', 'but', 'because', 'your', 'aren', \"you'd\", 'me', 'as', 'on', 'their', 'what', 'hers', 'between', 'o', 'won', 'theirs', 'during', 'were', 'wasn', 'against', 'have', 'am', 'about'}\n"
     ]
    }
   ],
   "source": [
    "from nltk.corpus import stopwords\n",
    "stop_words=set(stopwords.words(\"english\"))\n",
    "print(stop_words)"
   ]
  },
  {
   "cell_type": "code",
   "execution_count": 89,
   "id": "6e30922e-5261-49a9-89a2-d0493038c04d",
   "metadata": {},
   "outputs": [
    {
     "name": "stdout",
     "output_type": "stream",
     "text": [
      "Tokenized Sentence: ['the', 'room', 'was', 'kind', 'of', 'clean', 'but', 'had', 'a', 'very', 'strong', 'smell', 'of', 'dogs', '.', 'generally', 'below', 'average', 'but', 'ok', 'for', 'a', 'overnight', 'stay', 'if', 'you', \"'re\", 'not', 'too', 'fussy', '.', 'would', 'consider', 'staying', 'again', 'if', 'the', 'price', 'was', 'right', '.', 'breakfast', 'was', 'free', 'and', 'just', 'about', 'better', 'than', 'nothing', '.']\n",
      "Filterd Sentence: ['room', 'kind', 'clean', 'strong', 'smell', 'dogs', '.', 'generally', 'average', 'ok', 'overnight', 'stay', \"'re\", 'fussy', '.', 'would', 'consider', 'staying', 'price', 'right', '.', 'breakfast', 'free', 'better', 'nothing', '.']\n"
     ]
    }
   ],
   "source": [
    "filtered_sent=[]\n",
    "for w in tokenized_word:\n",
    "    if w not in stop_words:\n",
    "         filtered_sent.append(w)\n",
    "print(\"Tokenized Sentence:\",tokenized_word)\n",
    "print(\"Filterd Sentence:\",filtered_sent)"
   ]
  },
  {
   "cell_type": "markdown",
   "id": "07c01ce4-c14c-4f63-b4fc-e79e7b698534",
   "metadata": {},
   "source": [
    "### POS Tagging"
   ]
  },
  {
   "cell_type": "code",
   "execution_count": 91,
   "id": "4fca2435-00b4-461c-96b3-456cfb253cf8",
   "metadata": {},
   "outputs": [
    {
     "name": "stderr",
     "output_type": "stream",
     "text": [
      "[nltk_data] Downloading package averaged_perceptron_tagger to\n",
      "[nltk_data]     C:\\Users\\joshs\\AppData\\Roaming\\nltk_data...\n",
      "[nltk_data]   Unzipping taggers\\averaged_perceptron_tagger.zip.\n"
     ]
    },
    {
     "data": {
      "text/plain": [
       "[('the', 'DT'),\n",
       " ('room', 'NN'),\n",
       " ('was', 'VBD'),\n",
       " ('kind', 'NN'),\n",
       " ('of', 'IN'),\n",
       " ('clean', 'JJ'),\n",
       " ('but', 'CC'),\n",
       " ('had', 'VBD'),\n",
       " ('a', 'DT'),\n",
       " ('very', 'RB'),\n",
       " ('strong', 'JJ'),\n",
       " ('smell', 'NN'),\n",
       " ('of', 'IN'),\n",
       " ('dogs', 'NNS'),\n",
       " ('.', '.'),\n",
       " ('generally', 'RB'),\n",
       " ('below', 'JJ'),\n",
       " ('average', 'NN'),\n",
       " ('but', 'CC'),\n",
       " ('ok', 'NN'),\n",
       " ('for', 'IN'),\n",
       " ('a', 'DT'),\n",
       " ('overnight', 'JJ'),\n",
       " ('stay', 'NN'),\n",
       " ('if', 'IN'),\n",
       " ('you', 'PRP'),\n",
       " (\"'re\", 'VBP'),\n",
       " ('not', 'RB'),\n",
       " ('too', 'RB'),\n",
       " ('fussy', 'JJ'),\n",
       " ('.', '.'),\n",
       " ('would', 'MD'),\n",
       " ('consider', 'VB'),\n",
       " ('staying', 'VBG'),\n",
       " ('again', 'RB'),\n",
       " ('if', 'IN'),\n",
       " ('the', 'DT'),\n",
       " ('price', 'NN'),\n",
       " ('was', 'VBD'),\n",
       " ('right', 'JJ'),\n",
       " ('.', '.'),\n",
       " ('breakfast', 'NN'),\n",
       " ('was', 'VBD'),\n",
       " ('free', 'JJ'),\n",
       " ('and', 'CC'),\n",
       " ('just', 'RB'),\n",
       " ('about', 'IN'),\n",
       " ('better', 'JJR'),\n",
       " ('than', 'IN'),\n",
       " ('nothing', 'NN'),\n",
       " ('.', '.')]"
      ]
     },
     "execution_count": 91,
     "metadata": {},
     "output_type": "execute_result"
    }
   ],
   "source": [
    "nltk.download('averaged_perceptron_tagger')\n",
    "nltk.pos_tag(tokenized_word)"
   ]
  },
  {
   "cell_type": "markdown",
   "id": "cd8913ae-bd3e-4cf6-a2e4-b7e8b7917726",
   "metadata": {},
   "source": [
    "## Look at all reviews"
   ]
  },
  {
   "cell_type": "code",
   "execution_count": 124,
   "id": "230e409d-b730-4cf8-95d9-78845a757c31",
   "metadata": {},
   "outputs": [],
   "source": [
    "# Lowercase all reviews for stopword removal\n",
    "descriptions = descriptions.str.lower()"
   ]
  },
  {
   "cell_type": "code",
   "execution_count": 125,
   "id": "a86f2936-9831-4622-941c-4b6b7544dfdc",
   "metadata": {},
   "outputs": [
    {
     "data": {
      "text/plain": [
       "0       the room was kind of clean but had a very stro...\n",
       "1       i stayed at the crown plaza april -- - april -...\n",
       "2       i booked this hotel through hotwire at the low...\n",
       "3       stayed here with husband and sons on the way t...\n",
       "4       my girlfriends and i stayed here to celebrate ...\n",
       "                              ...                        \n",
       "4995    hilton nyc is a wonderful hotel where i stay w...\n",
       "4996    i have stayed at the dunhill - or - times on b...\n",
       "4997    we stayed at this hotel for a four day weekend...\n",
       "4998    the hilton ft. worth proved to be a great choi...\n",
       "4999    i booked this hotel as a mystery through book-...\n",
       "Name: Description, Length: 5000, dtype: object"
      ]
     },
     "execution_count": 125,
     "metadata": {},
     "output_type": "execute_result"
    }
   ],
   "source": [
    "subset = descriptions.iloc[:5000]\n",
    "subset"
   ]
  },
  {
   "cell_type": "markdown",
   "id": "3b79570b-0540-450b-bee2-59dbf982d02e",
   "metadata": {},
   "source": [
    "### Word tokenization"
   ]
  },
  {
   "cell_type": "code",
   "execution_count": 126,
   "id": "8259ac39-0635-42d3-98f7-d9df8c7a4bf3",
   "metadata": {},
   "outputs": [],
   "source": [
    "word_tokens = subset.apply(lambda x: word_tokenize(x))"
   ]
  },
  {
   "cell_type": "markdown",
   "id": "96965705-4ffd-428f-9b05-a75dc0b69e40",
   "metadata": {},
   "source": [
    "### Remove stopwords"
   ]
  },
  {
   "cell_type": "code",
   "execution_count": 127,
   "id": "8ab4c422-981b-40ac-b761-e67e67c9eeb6",
   "metadata": {},
   "outputs": [],
   "source": [
    "final_list = []\n",
    "for i in word_tokens:\n",
    "    final_list = final_list + i"
   ]
  },
  {
   "cell_type": "code",
   "execution_count": 129,
   "id": "0db2a174-cb05-4a9f-924d-e9c480bf5477",
   "metadata": {},
   "outputs": [],
   "source": [
    "filtered_final_list=[]\n",
    "for w in final_list:\n",
    "    if w not in stop_words:\n",
    "         filtered_final_list.append(w)"
   ]
  },
  {
   "cell_type": "markdown",
   "id": "f1eb1ab4-3cac-49ff-9209-7051d8c174c2",
   "metadata": {},
   "source": [
    "### Fequency Distribution"
   ]
  },
  {
   "cell_type": "code",
   "execution_count": 131,
   "id": "88cd13fa-ac45-4b32-9b7f-6710b208aafc",
   "metadata": {},
   "outputs": [
    {
     "name": "stdout",
     "output_type": "stream",
     "text": [
      "<FreqDist with 20928 samples and 585378 outcomes>\n"
     ]
    }
   ],
   "source": [
    "fdist2 = FreqDist(filtered_final_list)\n",
    "print(fdist2)"
   ]
  },
  {
   "cell_type": "code",
   "execution_count": 133,
   "id": "7c979df0-394f-4e0e-aabd-a20801b74bb1",
   "metadata": {},
   "outputs": [
    {
     "data": {
      "text/plain": [
       "[(\"''\", 68990), ('.', 45946), (',', 30189), ('hotel', 9334), ('room', 8098)]"
      ]
     },
     "execution_count": 133,
     "metadata": {},
     "output_type": "execute_result"
    }
   ],
   "source": [
    "fdist2.most_common(5)"
   ]
  },
  {
   "cell_type": "code",
   "execution_count": 136,
   "id": "e9e7cf11-db51-4ff9-9c08-4e75a5adee0f",
   "metadata": {},
   "outputs": [
    {
     "data": {
      "image/png": "[encoded data removed]",
      "text/plain": [
       "<Figure size 432x288 with 1 Axes>"
      ]
     },
     "metadata": {
      "needs_background": "light"
     },
     "output_type": "display_data"
    }
   ],
   "source": [
    "fdist2.plot(30,cumulative=False)\n",
    "plt.show()"
   ]
  },
  {
   "cell_type": "code",
   "execution_count": null,
   "id": "34eb7cbb-c8a5-4df9-88b7-54cf30b7965d",
   "metadata": {},
   "outputs": [],
   "source": []
  }
 ],
 "metadata": {
  "kernelspec": {
   "display_name": "Python 3 (ipykernel)",
   "language": "python",
   "name": "python3"
  },
  "language_info": {
   "codemirror_mode": {
    "name": "ipython",
    "version": 3
   },
   "file_extension": ".py",
   "mimetype": "text/x-python",
   "name": "python",
   "nbconvert_exporter": "python",
   "pygments_lexer": "ipython3",
   "version": "3.9.7"
  }
 },
 "nbformat": 4,
 "nbformat_minor": 5
}
